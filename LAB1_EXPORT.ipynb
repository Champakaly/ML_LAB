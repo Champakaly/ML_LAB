{
  "nbformat": 4,
  "nbformat_minor": 0,
  "metadata": {
    "colab": {
      "provenance": []
    },
    "kernelspec": {
      "name": "python3",
      "display_name": "Python 3"
    },
    "language_info": {
      "name": "python"
    }
  },
  "cells": [
    {
      "cell_type": "code",
      "execution_count": 7,
      "metadata": {
        "id": "z9LwHNUKkbiI"
      },
      "outputs": [],
      "source": [
        "# Webpage URL\n",
        "import pandas as pd;\n",
        "url = \"https://archive.ics.uci.edu/ml/machine-learning-databases/iris/iris.data\"\n",
        "\n",
        "# Define the column names\n",
        "\n",
        "col_names = [\"sepal_length_in_cm\",\n",
        "\n",
        "\"sepal_width_in_cm\",\n",
        "\n",
        "\"petal_length_in_cm\",\n",
        "\n",
        "\"petal_width_in_cm\",\n",
        "\n",
        "\"class\"]\n",
        "\n",
        "# Read data from URL\n",
        "\n",
        "iris_data = pd.read_csv(url, names=col_names)\n",
        "\n",
        "iris_data.head()\n",
        "iris_data.to_csv(\"cleaned_iris_data.csv\")"
      ]
    },
    {
      "cell_type": "code",
      "source": [],
      "metadata": {
        "id": "8XG8DAdDlDG8"
      },
      "execution_count": null,
      "outputs": []
    }
  ]
}